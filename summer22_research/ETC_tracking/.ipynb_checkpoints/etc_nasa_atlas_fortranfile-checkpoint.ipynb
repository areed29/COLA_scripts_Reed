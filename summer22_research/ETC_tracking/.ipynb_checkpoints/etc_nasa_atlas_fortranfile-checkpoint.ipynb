{
 "cells": [
  {
   "cell_type": "raw",
   "metadata": {},
   "source": [
    "C \n",
    "C    GETSTM  -  Get Storms retrieves storm tracks from the binary \n",
    "C               storm tracks file (stormtracks.bin), for a given \n",
    "C               date range, and generates an ASCII text file\n",
    "C               (st_report.txt). \n",
    "C \n",
    "      DIMENSION  AGRID(3,40)    \n",
    "      DIMENSION  MONS(12)\n",
    "      DATA  MONS / 31,28,31,30,31,30,31,31,30,31,30,31 /\n",
    "C\n",
    "C\n",
    "      OPEN(10,FILE='stormtracks.bin',IOSTAT=IOK,ACCESS='SEQUENTIAL',\n",
    "     *     FORM='UNFORMATTED')\n",
    "      IF(IOK.NE.0)  THEN\n",
    "         WRITE(6,*) 'Error opening stormtracks.bin - processing halted'\n",
    "         STOP\n",
    "      END IF\n",
    "C\n",
    "      OPEN(20,FILE='st_report.txt',IOSTAT=IOK,ACCESS='SEQUENTIAL',\n",
    "     *     FORM='FORMATTED')\n",
    "      IF(IOK.NE.0)  THEN\n",
    "         WRITE(6,*) 'Error opening st_report.txt - processing halted'\n",
    "         STOP\n",
    "      END IF\n",
    "C\n",
    "      CALL SYSTEM('clear') \n",
    "      WRITE(6,*) '  ' \n",
    "      WRITE(6,*) 'Enter date range for storm tracks retrieval' \n",
    "      WRITE(6,*) '          YYYYMMDD  YYYYMMDD  ' \n",
    "      WRITE(6,*) '  ' \n",
    "      READ(5,*)  NB, NF \n",
    "      IF(NF.LT.NB)  THEN \n",
    "         WRITE(6,*) 'Invalid date range ',NB,NF \n",
    "         WRITE(6,*) 'Processing Halted' \n",
    "      END IF \n",
    "      NSWT = 0 \n",
    "C \n",
    "   10 CONTINUE \n",
    "CCC   READ(10,NUM=KBYTS,END=300)  NKEY,NS  \n",
    "      READ(10,END=300)  NKEY,NS  \n",
    "      NDATE = NKEY/100 \n",
    "ccc   write(6,*) 'Read NKEY NS ',NKEY,NS,NDATE \n",
    "      IF(NSWT.EQ.1)  GO TO 20 \n",
    "C \n",
    "C     Check to see if we're within specified date range yet \n",
    "C \n",
    "      IF(NB.LE.NDATE)  THEN \n",
    "         NSWT=1 \n",
    "         WRITE(6,*) 'Found beginning of date range ',NDATE \n",
    "         GO TO 20 \n",
    "      END IF \n",
    "      GO TO 10 \n",
    "C \n",
    "C     Check to see if we're still within specified date range \n",
    "C \n",
    "   20 CONTINUE  \n",
    "ccc   write(6,*) 'At 20 ',nf,ndate \n",
    "      IF(NF.LT.NDATE)  GO TO 40 \n",
    "C \n",
    "C     Report these storms \n",
    "C \n",
    "      NHRS = NKEY-(NDATE*100) \n",
    "      NYYMM = NDATE/100 \n",
    "      NDYS = NDATE-(NYYMM*100)  \n",
    "      NYRS = NYYMM/100 \n",
    "      MTHS = NYYMM-(NYRS*100) \n",
    "      IF(MOD(NYRS,4).EQ.0)  THEN           \n",
    "         MONS(2)=29 \n",
    "       ELSE \n",
    "         MONS(2)=28 \n",
    "      END IF \n",
    "      WRITE(20,100)  NYRS,MTHS,NDYS,NHRS,NS \n",
    "C \n",
    "      DO 30 I=1,NS \n",
    "CCC      READ(10,NUM=KBYTS,END=310)  NT,AGRID \n",
    "         READ(10,END=310)  NT,(AGRID(M,1),M=1,NT*3)    \n",
    "         NYR = NYRS \n",
    "         MTH = MTHS \n",
    "         NDY = NDYS \n",
    "         NHR = NHRS \n",
    "         DO 25 J=1,NT \n",
    "CCC         WRITE(20,110)  I,J,AGRID(2,J),AGRID(1,J),AGRID(3,J) \n",
    "            WRITE(20,120)  I,J,AGRID(2,J),AGRID(1,J),AGRID(3,J), \n",
    "     *                     NYR,MTH,NDY,NHR \n",
    "C \n",
    "            NHR=NHR+12\n",
    "            IF(NHR.GT.12)  THEN \n",
    "               NHR=0\n",
    "               NDY=NDY+1\n",
    "               IF(NDY.GT.MONS(MTH))  THEN \n",
    "                  NDY=1\n",
    "                  MTH=MTH+1 \n",
    "                  IF(MTH.GT.12)  THEN \n",
    "                     MTH=1    \n",
    "                     NYR=NYR+1 \n",
    "                     IF(MOD(NYR,4).EQ.0)  THEN           \n",
    "                        MONS(2)=29 \n",
    "                      ELSE \n",
    "                        MONS(2)=28 \n",
    "                     END IF \n",
    "                  END IF \n",
    "               END IF \n",
    "            END IF \n",
    "   25    CONTINUE \n",
    "   30 CONTINUE \n",
    "C  \n",
    "      GO TO 10 \n",
    "C \n",
    "C     Finished  \n",
    "C \n",
    "   40 CONTINUE \n",
    "      CLOSE(10) \n",
    "      CLOSE(20) \n",
    "      STOP \n",
    "  100 FORMAT(1X,I4,'/',I2.2,'/',I2.2,2X,I2.2,3X,   \n",
    "     *       'Number of Storms Begun ',I2)   \n",
    "  110 FORMAT(1X,4X,I2,2X,I2,3X,F7.2,2X,F6.2,3X,F7.2) \n",
    "  120 FORMAT(1X,4X,I2,2X,I2,3X,F7.2,2X,F6.2,3X,F7.2,4X,\n",
    "     *       I4,'/',I2.2,'/',I2.2,2X,I2.2)   \n",
    "C \n",
    "  300 CONTINUE \n",
    "C \n",
    "C     IF EOF REACHED BECAUSE OF REQUESTED DATE THEN  \n",
    "C     STOP WITHOUT ERROR MESSAGE. \n",
    "C  \n",
    "      IF(NF.GE.19981229)  THEN \n",
    "         CLOSE(10) \n",
    "         CLOSE(20) \n",
    "         STOP \n",
    "      END IF \n",
    "C \n",
    "      WRITE(6,*) 'Error Reading Input File - Processing Halted' \n",
    "ccc   write(6,*) 'KEY NS ',KEY,NS  \n",
    "      CLOSE(10) \n",
    "      CLOSE(20) \n",
    "      STOP 300 \n",
    "C \n",
    "  310 CONTINUE \n",
    "      WRITE(6,*) 'Error Reading Input File - Processing Halted' \n",
    "ccc   write(6,*) 'I NS NT ',I,NS,NT  \n",
    "      CLOSE(10) \n",
    "      CLOSE(20) \n",
    "      STOP 310 \n",
    "C \n",
    "      END  "
   ]
  },
  {
   "cell_type": "raw",
   "metadata": {},
   "source": [
    "Need to extract year DJF 1980-1981 and over the region of interest (25N-75N, -88W-20W) and save tracks in txt format"
   ]
  },
  {
   "cell_type": "code",
   "execution_count": 10,
   "metadata": {},
   "outputs": [],
   "source": [
    "import numpy as np\n",
    "from numpy import f2py as f2py"
   ]
  },
  {
   "cell_type": "code",
   "execution_count": 13,
   "metadata": {},
   "outputs": [
    {
     "ename": "SyntaxError",
     "evalue": "invalid syntax (<ipython-input-13-c104fa7718ca>, line 1)",
     "output_type": "error",
     "traceback": [
      "\u001b[0;36m  File \u001b[0;32m\"<ipython-input-13-c104fa7718ca>\"\u001b[0;36m, line \u001b[0;32m1\u001b[0m\n\u001b[0;31m    python -m f2py\u001b[0m\n\u001b[0m                 ^\u001b[0m\n\u001b[0;31mSyntaxError\u001b[0m\u001b[0;31m:\u001b[0m invalid syntax\n"
     ]
    }
   ],
   "source": [
    "python -m f2py"
   ]
  },
  {
   "cell_type": "code",
   "execution_count": 12,
   "metadata": {},
   "outputs": [
    {
     "ename": "SyntaxError",
     "evalue": "invalid syntax (<ipython-input-12-d67c1497f516>, line 1)",
     "output_type": "error",
     "traceback": [
      "\u001b[0;36m  File \u001b[0;32m\"<ipython-input-12-d67c1497f516>\"\u001b[0;36m, line \u001b[0;32m1\u001b[0m\n\u001b[0;31m    python -m f2py -c -m getstms getstms.f\u001b[0m\n\u001b[0m                 ^\u001b[0m\n\u001b[0;31mSyntaxError\u001b[0m\u001b[0;31m:\u001b[0m invalid syntax\n"
     ]
    }
   ],
   "source": [
    "python -m f2py -c -m getstms getstms.f"
   ]
  },
  {
   "cell_type": "code",
   "execution_count": 2,
   "metadata": {},
   "outputs": [
    {
     "name": "stdout",
     "output_type": "stream",
     "text": [
      "[ 3.8518599e-34 -3.0525882e-07  2.4074124e-35 ...  5.6446196e-36\n",
      "  0.0000000e+00  3.8518599e-34]\n"
     ]
    },
    {
     "data": {
      "text/plain": [
       "'\\nnlon = 128; nlat = 64; nlev = 11; nvar = 5; ntall = 152; ntimes = 136\\nvarall = np.reshape(varall,(ntall,nvar,nlev,nlat*nlon+2))[:,:,:,1:(1+nlat*nlon)]\\n# extract variables at right level and for only Nov. 15 - Mar. 30 (136 days)\\nit = 14 + np.arange(ntimes)\\nt850 = np.reshape(varall[it,3,1,:],(-1,nlat,nlon))\\nv850 = np.reshape(varall[it,1,1,:],(-1,nlat,nlon))\\nv300 = np.reshape(varall[it,1,5,:],(-1,nlat,nlon))\\n\\n#flip latitudes\\n# flip latitudes\\nilat = np.flip(np.arange(nlat))\\nt850 = t850[:,ilat,:]\\nv850 = v850[:,ilat,:]\\nv300 = v300[:,ilat,:]\\n'"
      ]
     },
     "execution_count": 2,
     "metadata": {},
     "output_type": "execute_result"
    }
   ],
   "source": [
    "import numpy as np\n",
    "import matplotlib.pyplot as plt\n",
    "\n",
    "filename='/project/xprecip/etc_atlas_nasa/stormtracks.bin' #opens the file\n",
    "varall = np.fromfile(filename,dtype='float32')\n",
    "print(varall)\n",
    "agrid= [3,40]; mons=12\n",
    "varall=np.reshape(varall,())\n",
    "'''\n",
    "nlon = 128; nlat = 64; nlev = 11; nvar = 5; ntall = 152; ntimes = 136\n",
    "varall = np.reshape(varall,(ntall,nvar,nlev,nlat*nlon+2))[:,:,:,1:(1+nlat*nlon)]\n",
    "# extract variables at right level and for only Nov. 15 - Mar. 30 (136 days)\n",
    "it = 14 + np.arange(ntimes)\n",
    "t850 = np.reshape(varall[it,3,1,:],(-1,nlat,nlon))\n",
    "v850 = np.reshape(varall[it,1,1,:],(-1,nlat,nlon))\n",
    "v300 = np.reshape(varall[it,1,5,:],(-1,nlat,nlon))\n",
    "\n",
    "#flip latitudes\n",
    "# flip latitudes\n",
    "ilat = np.flip(np.arange(nlat))\n",
    "t850 = t850[:,ilat,:]\n",
    "v850 = v850[:,ilat,:]\n",
    "v300 = v300[:,ilat,:]\n",
    "'''"
   ]
  },
  {
   "cell_type": "code",
   "execution_count": null,
   "metadata": {},
   "outputs": [],
   "source": []
  }
 ],
 "metadata": {
  "kernelspec": {
   "display_name": "Python (clim680)",
   "language": "python",
   "name": "clim680"
  },
  "language_info": {
   "codemirror_mode": {
    "name": "ipython",
    "version": 3
   },
   "file_extension": ".py",
   "mimetype": "text/x-python",
   "name": "python",
   "nbconvert_exporter": "python",
   "pygments_lexer": "ipython3",
   "version": "3.6.10"
  }
 },
 "nbformat": 4,
 "nbformat_minor": 4
}
