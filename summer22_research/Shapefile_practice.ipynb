{
 "cells": [
  {
   "cell_type": "code",
   "execution_count": 5,
   "metadata": {},
   "outputs": [],
   "source": [
    "import numpy as np\n",
    "import xarray as xr\n",
    "import matplotlib.pyplot as plt\n",
    "import cartopy.crs as ccrs\n",
    "from intake import open_catalog\n",
    "import cartopy.io.shapereader as shpreader\n",
    "#import Ngl\n",
    "#import Nio\n",
    "#import fiona"
   ]
  },
  {
   "cell_type": "code",
   "execution_count": null,
   "metadata": {},
   "outputs": [
    {
     "name": "stdout",
     "output_type": "stream",
     "text": [
      "Collecting package metadata (current_repodata.json): done\n",
      "Solving environment: failed with initial frozen solve. Retrying with flexible solve.\n",
      "Solving environment: failed with repodata from current_repodata.json, will retry with next repodata source.\n",
      "Collecting package metadata (repodata.json): done\n",
      "Solving environment: - "
     ]
    }
   ],
   "source": [
    "import sys\n",
    "!{sys.executable} -m conda install -c conda-forge pyngl pynio fiona\n"
   ]
  },
  {
   "cell_type": "code",
   "execution_count": 22,
   "metadata": {},
   "outputs": [
    {
     "name": "stderr",
     "output_type": "stream",
     "text": [
      "/homes/areed29/.conda/envs/clim680/lib/python3.6/site-packages/dask/array/numpy_compat.py:40: RuntimeWarning: invalid value encountered in true_divide\n",
      "  x = np.divide(x1, x2, out)\n"
     ]
    }
   ],
   "source": [
    "test_array=np.full_like(u_wind_all,np.nan)"
   ]
  },
  {
   "cell_type": "code",
   "execution_count": 5,
   "metadata": {},
   "outputs": [
    {
     "ename": "AttributeError",
     "evalue": "'Collection' object has no attribute 'variables'",
     "output_type": "error",
     "traceback": [
      "\u001b[0;31m---------------------------------------------------------------------------\u001b[0m",
      "\u001b[0;31mAttributeError\u001b[0m                            Traceback (most recent call last)",
      "\u001b[0;32m<ipython-input-5-82f0087d9b5f>\u001b[0m in \u001b[0;36m<module>\u001b[0;34m\u001b[0m\n\u001b[1;32m     10\u001b[0m \u001b[0;34m\u001b[0m\u001b[0m\n\u001b[1;32m     11\u001b[0m \u001b[0;31m#Read data off the shapefile\u001b[0m\u001b[0;34m\u001b[0m\u001b[0;34m\u001b[0m\u001b[0;34m\u001b[0m\u001b[0m\n\u001b[0;32m---> 12\u001b[0;31m \u001b[0msegsDims\u001b[0m \u001b[0;34m=\u001b[0m \u001b[0;34m(\u001b[0m\u001b[0mshpf\u001b[0m\u001b[0;34m.\u001b[0m\u001b[0mvariables\u001b[0m\u001b[0;34m[\u001b[0m\u001b[0;34m'segments'\u001b[0m\u001b[0;34m]\u001b[0m\u001b[0;34m)\u001b[0m\u001b[0;34m.\u001b[0m\u001b[0mshape\u001b[0m\u001b[0;34m\u001b[0m\u001b[0;34m\u001b[0m\u001b[0m\n\u001b[0m\u001b[1;32m     13\u001b[0m \u001b[0mgeometry\u001b[0m \u001b[0;34m=\u001b[0m \u001b[0mshpf\u001b[0m\u001b[0;34m.\u001b[0m\u001b[0mvariables\u001b[0m\u001b[0;34m[\u001b[0m\u001b[0;34m'geometry'\u001b[0m\u001b[0;34m]\u001b[0m\u001b[0;34m[\u001b[0m\u001b[0;34m:\u001b[0m\u001b[0;34m]\u001b[0m\u001b[0;34m\u001b[0m\u001b[0;34m\u001b[0m\u001b[0m\n\u001b[1;32m     14\u001b[0m \u001b[0msegments\u001b[0m \u001b[0;34m=\u001b[0m \u001b[0mshpf\u001b[0m\u001b[0;34m.\u001b[0m\u001b[0mvariables\u001b[0m\u001b[0;34m[\u001b[0m\u001b[0;34m'segments'\u001b[0m\u001b[0;34m]\u001b[0m\u001b[0;34m[\u001b[0m\u001b[0;34m:\u001b[0m\u001b[0;34m]\u001b[0m\u001b[0;34m\u001b[0m\u001b[0;34m\u001b[0m\u001b[0m\n",
      "\u001b[0;31mAttributeError\u001b[0m: 'Collection' object has no attribute 'variables'"
     ]
    }
   ],
   "source": [
    "# Spatial filtering for Mid-Atlantic\n",
    "\n",
    "#---Name of shapefile that contains U.S county outlines\n",
    "shapefile_name = \"/scratch/areed29/gadm36_USA_shp/gadm36_USA_1.shp\"\n",
    "\n",
    "shpf = fiona.open(shapefile_name)\n",
    "\n",
    "#Open the shapefile\n",
    "#shpf = Nio.open_file(shapefile_name,\"r\")\n",
    "\n",
    "#Read data off the shapefile\n",
    "segsDims = (shpf.variables['segments']).shape\n",
    "geometry = shpf.variables['geometry'][:]\n",
    "segments = shpf.variables['segments'][:]\n",
    "geomDims = (shpf.variables['geometry']).shape\n",
    "numFeatures = geomDims[0]\n",
    "#Read global attributes  \n",
    "geom_segIndex = shpf.geom_segIndex\n",
    "geom_numSegs  = shpf.geom_numSegs\n",
    "segs_xyzIndex = shpf.segs_xyzIndex\n",
    "segs_numPnts  = shpf.segs_numPnts\n",
    "\n",
    "#Read the lat/lon data off the shapefile\n",
    "lat = shpf.variables['y'][:]\n",
    "lon = shpf.variables['x'][:]\n",
    "\n",
    "#Read the state and county names off the file\n",
    "names1 = shpf.variables['NAME_1'][:] # State names\n",
    "#names2 = shpf.variables['NAME_2'][:] # County names\n",
    "\n",
    "\n",
    "#Grab the indexes containing the New York counties.\n",
    "names1_fixed = []\n",
    "\n",
    "for i in range(len(names1)):\n",
    "    elementstring = str(names1[i])[2:]\n",
    "    names1_fixed.append(elementstring[:-1])\n",
    "print(type(names1_fixed[0]))\n",
    "names1_array = np.array(names1_fixed)\n",
    "print(type(names1_array))\n",
    "'''\n",
    "names2_fixed = []\n",
    "\n",
    "for i in range(len(names2)):\n",
    "    elementstring = str(names2[i])[2:]\n",
    "    names2_fixed.append(elementstring[:-1])\n",
    "print(type(names2_fixed[0]))\n",
    "names2_array = np.array(names2_fixed)\n",
    "print(type(names2_array))\n",
    "'''\n",
    "\n",
    "\n",
    "#Grab the indexes containing the NY counties\n",
    "\n",
    "#ny_counties = np.where((names1_array == 'New York') & (names2_array == 'Kings') | (names1_array == 'New York') & (names2_array == 'Queens') | (names1_array == 'New York') & (names2_array == 'Nassau') | (names1_array == 'New York') & (names2_array == 'Suffolk'))[0]\n",
    "mid_atlantic = np.where((names1_array =='Virginia') | (names1_array=='Maryland') | (names1_array=='Delaware') | (names1_array== 'New Jersey') | (names1_array =='Pennsylvania') | (names1_array =='West Virginia') | (names1_array =='New York') | (names1_array =='North Carolina')) [0]\n",
    "nmid = len(mid_atlantic)\n",
    "ny_county_list = []\n",
    "print(nmid)\n",
    "print(mid_atlantic)\n",
    "#nyyears = (np.shape(daily_sums_1))[0]\n",
    "#Create an array to hold new data mask, and set all values to 0 initially\n",
    "#test_array = np.full_like(u_wind_all,np.nan)\n",
    "\n",
    "for shapes in fiona.open(shapefile_name):\n",
    "    geom_type = shapes['geometry']['type']\n",
    "    geom_coords = shapes['geometry']['coordinates']\n",
    "    #if int(shapes['id']) == ny_counties[2]:\n",
    "    #if int(shapes['id']) == ny_counties[0]:\n",
    "    if int(shapes['id']) == mid_atlantic[0] or int(shapes['id']) == mid_atlantic[1] or int(shapes['id']) == mid_atlantic[2] or int(shapes['id']) == mid_atlantic[3] or int(shapes['id']) == mid_atlantic[4] or int(shapes['id']) == mid_atlantic[5] or int(shapes['id']) == mid_atlantic[6] or int(shapes['id']) == mid_atlantic[7]:\n",
    "        print(\"Masking\" + names1_array[int(shapes['id'])])\n",
    "        for part in geom_coords:\n",
    "              part_squeeze = np.squeeze(part)\n",
    "              part_shape = np.shape(part_squeeze)\n",
    "              lats = []\n",
    "              lons = []\n",
    "              for i in range(part_shape[0]):\n",
    "                  lons.append(part_squeeze[i][0])\n",
    "                  lats.append(part_squeeze[i][1])\n",
    "              maxlat = max(lats)\n",
    "              maxlon = max(lons)\n",
    "              minlat = min(lats)\n",
    "              minlon = min(lons)\n",
    "              for k in range(0,nlats):\n",
    "                  for l in range(0,nlons):\n",
    "                      if lat[k] <= maxlat and lat[k] >= minlat and lon[l] <= maxlon and lon[l] >= minlon:\n",
    "                          dist = Ngl.gc_inout(lat[k],lon[l], lats,lons)\n",
    "                          if dist != 0:\n",
    "                              test_array[k,l] = 1\n"
   ]
  },
  {
   "cell_type": "code",
   "execution_count": null,
   "metadata": {},
   "outputs": [],
   "source": []
  }
 ],
 "metadata": {
  "kernelspec": {
   "display_name": "latest_env",
   "language": "python",
   "name": "latest_env"
  },
  "language_info": {
   "codemirror_mode": {
    "name": "ipython",
    "version": 3
   },
   "file_extension": ".py",
   "mimetype": "text/x-python",
   "name": "python",
   "nbconvert_exporter": "python",
   "pygments_lexer": "ipython3",
   "version": "3.7.3"
  }
 },
 "nbformat": 4,
 "nbformat_minor": 4
}
